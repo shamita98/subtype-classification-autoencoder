{
 "cells": [
  {
   "cell_type": "code",
   "execution_count": 1,
   "id": "cf3cff55-7ed1-4e28-8891-f988f573ae9e",
   "metadata": {},
   "outputs": [],
   "source": [
    "# import required libraries\n",
    "import pandas as pd\n",
    "import numpy as np\n",
    "from sklearn.model_selection import train_test_split\n",
    "import random"
   ]
  },
  {
   "cell_type": "markdown",
   "id": "575d7f06-8dee-45c3-ae03-ee4f88695fa3",
   "metadata": {},
   "source": [
    "#### 1. Import data\n",
    "**Note:** The raw gene expression counts are are originally in the format (genes × samples), where rows represent genes and columns represent samples.  \n",
    "For machine learning / deep learning models, transpose the data so that each row corresponds to a sample and each column corresponds to a gene, which is the expected input format."
   ]
  },
  {
   "cell_type": "code",
   "execution_count": 2,
   "id": "affe4732-cf9a-40ce-9cc2-a9a1c29e56fa",
   "metadata": {},
   "outputs": [],
   "source": [
    "raw_counts = pd.read_csv(\"C:/Users/User/Documents/brca_subtype_ae/data/tcga_brca_original_data/raw_counts_original.csv\", \n",
    "                         header = 0, index_col = 0).transpose()"
   ]
  },
  {
   "cell_type": "code",
   "execution_count": 3,
   "id": "96735a59-48b5-404c-923b-9ec10c5a27d6",
   "metadata": {},
   "outputs": [],
   "source": [
    "sample_info = pd.read_csv(\"C:/Users/User/Documents/brca_subtype_ae/data/tcga_brca_original_data/sample_info_original.csv\", \n",
    "                          header = 0, index_col = 0)"
   ]
  },
  {
   "cell_type": "code",
   "execution_count": 4,
   "id": "d856e9b6-a5a3-4482-83ef-7561ce11a1e8",
   "metadata": {},
   "outputs": [
    {
     "name": "stdout",
     "output_type": "stream",
     "text": [
      "(1111, 60660)\n",
      "(1111, 85)\n"
     ]
    }
   ],
   "source": [
    "print(raw_counts.shape)\n",
    "print(sample_info.shape)"
   ]
  },
  {
   "cell_type": "markdown",
   "id": "76f23b5e-9ad2-4e37-9f5c-87e2a66253a9",
   "metadata": {},
   "source": [
    "#### 2. Data cleaning"
   ]
  },
  {
   "cell_type": "code",
   "execution_count": 5,
   "id": "90e83a44-d32e-425e-93fd-670fff517452",
   "metadata": {},
   "outputs": [
    {
     "name": "stdout",
     "output_type": "stream",
     "text": [
      "True\n"
     ]
    }
   ],
   "source": [
    "# check if the indexes(sample names) of all the files match (output should be true)\n",
    "print(raw_counts.index.equals(sample_info.index))"
   ]
  },
  {
   "cell_type": "markdown",
   "id": "04339e4f-f645-4326-9f47-e2f164f28980",
   "metadata": {},
   "source": [
    "The check returned `True`, which means that the sample names (indexes) in the raw counts and sample information all match and are in the correct order. This ensures that the datasets are properly aligned and safe to use for downstream analysis or ML models."
   ]
  },
  {
   "cell_type": "code",
   "execution_count": 6,
   "id": "33acf3d5-6ba7-439e-9c64-8374737713d1",
   "metadata": {},
   "outputs": [
    {
     "data": {
      "text/plain": [
       "1095"
      ]
     },
     "execution_count": 6,
     "metadata": {},
     "output_type": "execute_result"
    }
   ],
   "source": [
    "# find the number of unique patient IDs\n",
    "sample_info['patient'].nunique()"
   ]
  },
  {
   "cell_type": "markdown",
   "id": "d311b105-8f14-4fb1-a8e3-ea8371139500",
   "metadata": {},
   "source": [
    "The number of unique samples is 1095 out of 1111 samples, which indicates the presence of duplicates."
   ]
  },
  {
   "cell_type": "code",
   "execution_count": 7,
   "id": "cf83b6ca-139e-4e01-a6f5-30d6b1c90eef",
   "metadata": {},
   "outputs": [
    {
     "data": {
      "text/plain": [
       "27"
      ]
     },
     "execution_count": 7,
     "metadata": {},
     "output_type": "execute_result"
    }
   ],
   "source": [
    "# subset duplicated patients along with their first occurences\n",
    "patient_duplicates_with_first_occ = sample_info.loc[sample_info['patient'].duplicated(keep=False)]\n",
    "\n",
    "# count of all duplicates including first occurrence\n",
    "patient_duplicates_with_first_occ.shape[0]"
   ]
  },
  {
   "cell_type": "markdown",
   "id": "79900797-d3a6-4bb9-b801-e27595d9f529",
   "metadata": {},
   "source": [
    "To avoid introducing bias in downstream analysis or machine learning models, it is best to remove all duplicates, including the first occurrences. Keeping only one copy of a duplicate could still bias the dataset if the counts are inconsistent, so complete removal ensures that each sample is unique and representative."
   ]
  },
  {
   "cell_type": "code",
   "execution_count": 8,
   "id": "a944330d-caab-43a3-8447-0e0d631966ec",
   "metadata": {},
   "outputs": [
    {
     "name": "stdout",
     "output_type": "stream",
     "text": [
      "(1084, 60660)\n",
      "(1084, 85)\n"
     ]
    }
   ],
   "source": [
    "# remove all duplicates including first occurrences\n",
    "sample_info_cleaned = sample_info.drop_duplicates(subset = ['patient'], keep = False)\n",
    "raw_counts_cleaned = raw_counts.loc[sample_info_cleaned.index]\n",
    "\n",
    "# check the new dimension\n",
    "print(raw_counts_cleaned.shape)\n",
    "print(sample_info_cleaned.shape)"
   ]
  },
  {
   "cell_type": "code",
   "execution_count": 9,
   "id": "cfe8b165-1d0d-491b-ad2a-521d3801c174",
   "metadata": {},
   "outputs": [
    {
     "data": {
      "text/plain": [
       "gender\n",
       "female    1071\n",
       "male        12\n",
       "Name: count, dtype: int64"
      ]
     },
     "execution_count": 9,
     "metadata": {},
     "output_type": "execute_result"
    }
   ],
   "source": [
    "# check the count of each gender in the sample info without duplicates\n",
    "sample_info_cleaned['gender'].value_counts()"
   ]
  },
  {
   "cell_type": "markdown",
   "id": "e77fd08e-3228-4646-81c2-8423bd8bab41",
   "metadata": {},
   "source": [
    "Including both male and female samples, there are 1083 samples.  \n",
    "After cleaning, the total count is 1084, indicating that one sample has missing gender information.\n",
    "We keep only female samples to avoid bias, as the number of male samples is small.  \n",
    "This ensures a more balanced and reliable dataset for downstream analysis."
   ]
  },
  {
   "cell_type": "code",
   "execution_count": 10,
   "id": "93a285c2-a806-4b9b-b172-74db689a0f5c",
   "metadata": {},
   "outputs": [],
   "source": [
    "# keep only female samples\n",
    "sample_info_cleaned = sample_info_cleaned.loc[sample_info_cleaned['gender'] == 'female']\n",
    "raw_counts_cleaned = raw_counts_cleaned.loc[sample_info_cleaned.index]"
   ]
  },
  {
   "cell_type": "code",
   "execution_count": 11,
   "id": "bfd1b5e5-700b-4f36-9a4f-5a00aad621a5",
   "metadata": {},
   "outputs": [
    {
     "name": "stdout",
     "output_type": "stream",
     "text": [
      "0\n"
     ]
    }
   ],
   "source": [
    "# check the count of samples with missing subtype information\n",
    "print(sample_info_cleaned['paper_BRCA_Subtype_PAM50'].isna().sum())"
   ]
  },
  {
   "cell_type": "markdown",
   "id": "998348ed-db5a-4e17-9898-fc9089bd5665",
   "metadata": {},
   "source": [
    "There no samples with missing subtype information."
   ]
  },
  {
   "cell_type": "code",
   "execution_count": 12,
   "id": "e62189fe-3fff-4ef7-8e13-afd35745b1a7",
   "metadata": {},
   "outputs": [
    {
     "data": {
      "text/plain": [
       "paper_BRCA_Subtype_PAM50\n",
       "LumA      555\n",
       "LumB      209\n",
       "Basal     185\n",
       "Her2       82\n",
       "Normal     40\n",
       "Name: count, dtype: int64"
      ]
     },
     "execution_count": 12,
     "metadata": {},
     "output_type": "execute_result"
    }
   ],
   "source": [
    "# check the count of each subtype\n",
    "sample_info_cleaned['paper_BRCA_Subtype_PAM50'].value_counts()"
   ]
  },
  {
   "cell_type": "markdown",
   "id": "d2cfcbda-5322-4ce1-a8c5-da6e21ae3493",
   "metadata": {},
   "source": [
    "Among the samples, luminal A has the highest number (555) because it is the most prevalent breast cancer subtype, followed by luminal B, basal-like, and HER2-enriched. The normal-like subtype (40 samples) is generally considered to be a tissue artifact rather than a true biological subtype, as discussed in [Parker et al., 2009](https://doi.org/10.1200/JCO.2008.18.1370). Since, it is not considered as a true or major subtype, these samples are removed. "
   ]
  },
  {
   "cell_type": "code",
   "execution_count": 13,
   "id": "fe2dcb4c-6495-4d82-b8c0-cc6a9695aab2",
   "metadata": {},
   "outputs": [],
   "source": [
    "# remove normal-like subtype\n",
    "sample_info_cleaned = sample_info_cleaned.loc[sample_info_cleaned['paper_BRCA_Subtype_PAM50'] != 'Normal']\n",
    "raw_counts_cleaned = raw_counts_cleaned.loc[sample_info_cleaned.index]"
   ]
  },
  {
   "cell_type": "code",
   "execution_count": 14,
   "id": "3dbbc380-8c2e-409e-921d-d31f276fa580",
   "metadata": {},
   "outputs": [
    {
     "name": "stdout",
     "output_type": "stream",
     "text": [
      "(1031, 85)\n",
      "(1031, 60660)\n"
     ]
    }
   ],
   "source": [
    "# check the dimensions of the cleaned dataframes\n",
    "print(sample_info_cleaned.shape)\n",
    "print(raw_counts_cleaned.shape)"
   ]
  },
  {
   "cell_type": "code",
   "execution_count": 15,
   "id": "34696e34-d9c5-4eeb-b3f9-d853623dd4bc",
   "metadata": {},
   "outputs": [
    {
     "name": "stdout",
     "output_type": "stream",
     "text": [
      "True\n"
     ]
    }
   ],
   "source": [
    "# check if the indexes of the cleaned data match (output should be true)\n",
    "print(raw_counts_cleaned.index.equals(sample_info_cleaned.index))"
   ]
  },
  {
   "cell_type": "markdown",
   "id": "219f72dc-7027-469e-a2a7-76ee60628b41",
   "metadata": {},
   "source": [
    "The indexes of the cleaned data all match in raw counts and sample information.  \r\n",
    "This means the datasets are properly aligne.."
   ]
  },
  {
   "cell_type": "code",
   "execution_count": 16,
   "id": "13c68317-724d-4d02-808b-01fd019f0c3d",
   "metadata": {},
   "outputs": [
    {
     "name": "stdout",
     "output_type": "stream",
     "text": [
      "False\n"
     ]
    }
   ],
   "source": [
    "# check if there are negative values in any of the gene columns (output should be false)\n",
    "print((raw_counts_cleaned < 0).any().any())"
   ]
  },
  {
   "cell_type": "markdown",
   "id": "728c030a-4dfb-45bc-b8d8-050abd003004",
   "metadata": {},
   "source": [
    "- If the result is `False`, it means no negative counts were found (expected for raw gene expression data).  \r\n",
    "- If the result is `True`, it means negative counts were detected, which is unexpected and ighty indicate preprocessing or data issues."
   ]
  },
  {
   "cell_type": "code",
   "execution_count": 17,
   "id": "56e252d8-5d21-46f5-ae69-1e7f6b0de32e",
   "metadata": {},
   "outputs": [
    {
     "name": "stdout",
     "output_type": "stream",
     "text": [
      "0\n"
     ]
    }
   ],
   "source": [
    "# check if there are decimal gene expression values in any of the gene columns\n",
    "print((raw_counts_cleaned % 1 != 0).any().sum())"
   ]
  },
  {
   "cell_type": "markdown",
   "id": "1bc326b2-57df-472a-8b6e-ec63b3aa3e16",
   "metadata": {},
   "source": [
    "This checks whether any of the gene columns contain decimal values. For differential gene expression analysis using DESeq2, raw counts must be integers. A result of `0` is returned which means all genes have expression counts as integers."
   ]
  },
  {
   "cell_type": "code",
   "execution_count": 18,
   "id": "851aefe2-3bf1-475d-b596-02b78ab5ef79",
   "metadata": {},
   "outputs": [],
   "source": [
    "# # save cleaned data as csv\n",
    "# sample_info_cleaned.to_csv('sample_info_cleaned.csv')\n",
    "# raw_counts_cleaned.to_csv('raw_counts_cleaned.csv')\n",
    "# tpm_counts_cleaned.to_csv('tpm_counts_cleaned.csv')\n",
    "# log2_tpm_counts_cleaned.to_csv('log2_tpm_counts_cleaned.csv')"
   ]
  },
  {
   "cell_type": "markdown",
   "id": "cd747e68-cb60-4b06-bbfb-bb58bea39208",
   "metadata": {},
   "source": [
    "#### 3. Data splitting\n",
    "\n",
    "**Note:** We split the dataset into 70% training and 30% testing to ensure that there are sufficient samples from the HER2-enriched subtype in the test set.  \r\n",
    "Since HER2 is the minority class, a larger test proportion helps maintain adequate representation for evaluation."
   ]
  },
  {
   "cell_type": "code",
   "execution_count": 19,
   "id": "b7099b03-6b9b-44c3-a5d9-4f22e4884033",
   "metadata": {},
   "outputs": [],
   "source": [
    "# define seed for train-test split\n",
    "seed = 42\n",
    "\n",
    "# initialize randomness before splitting to get the same training and test sets everytime \n",
    "random.seed(seed)\n",
    "np.random.seed(seed)"
   ]
  },
  {
   "cell_type": "code",
   "execution_count": 20,
   "id": "38508b59-3020-46b0-b2f2-45eb4b9eaba7",
   "metadata": {},
   "outputs": [
    {
     "data": {
      "text/plain": [
       "(1031, 1)"
      ]
     },
     "execution_count": 20,
     "metadata": {},
     "output_type": "execute_result"
    }
   ],
   "source": [
    "# keep only subtype column in the sample info data prior to splitting\n",
    "y_subtype = sample_info_cleaned.loc[:,['paper_BRCA_Subtype_PAM50']]\n",
    "y_subtype.shape"
   ]
  },
  {
   "cell_type": "code",
   "execution_count": 21,
   "id": "9c3ff225-7ca7-46bb-a3a3-11092e891c6a",
   "metadata": {},
   "outputs": [],
   "source": [
    "# split raw counts and subtye into 70% training and 30% test\n",
    "# stratify split by y (subtype label) to have consistent class distribution in both training and test sets\n",
    "X_raw_train, X_raw_test, y_train, y_test = train_test_split(raw_counts_cleaned, y_subtype, test_size=0.30, \n",
    "                                                            stratify=y_subtype, random_state=seed)"
   ]
  },
  {
   "cell_type": "code",
   "execution_count": 22,
   "id": "e5b96a04-d22c-48ce-b08a-c286551b46f4",
   "metadata": {},
   "outputs": [
    {
     "name": "stdout",
     "output_type": "stream",
     "text": [
      "(721, 60660)\n",
      "(310, 60660)\n",
      "(721, 1)\n",
      "(310, 1)\n"
     ]
    }
   ],
   "source": [
    "# check dimensions after splitting\n",
    "print(X_raw_train.shape)\n",
    "print(X_raw_test.shape)\n",
    "print(y_train.shape)\n",
    "print(y_test.shape)"
   ]
  },
  {
   "cell_type": "code",
   "execution_count": 23,
   "id": "dfc3d66e-6361-4685-aaa1-46f2802968ad",
   "metadata": {},
   "outputs": [
    {
     "name": "stdout",
     "output_type": "stream",
     "text": [
      "Class proportion in the training set:\n",
      "paper_BRCA_Subtype_PAM50\n",
      "LumA                        388\n",
      "LumB                        146\n",
      "Basal                       130\n",
      "Her2                         57\n",
      "Name: count, dtype: int64\n",
      "\n",
      "Class proportion in the test set:\n",
      "paper_BRCA_Subtype_PAM50\n",
      "LumA                        167\n",
      "LumB                         63\n",
      "Basal                        55\n",
      "Her2                         25\n",
      "Name: count, dtype: int64\n"
     ]
    }
   ],
   "source": [
    "# check class proportion in training and test sets\n",
    "print(\"Class proportion in the training set:\")\n",
    "print(y_train.value_counts())\n",
    "\n",
    "print(\"\\nClass proportion in the test set:\")\n",
    "print(y_test.value_counts())"
   ]
  },
  {
   "cell_type": "code",
   "execution_count": 24,
   "id": "20ed7b47-bce5-416a-9a05-2f20df162586",
   "metadata": {},
   "outputs": [
    {
     "name": "stdout",
     "output_type": "stream",
     "text": [
      "True\n",
      "True\n"
     ]
    }
   ],
   "source": [
    "# check whether the indices match between the x and y datasets\n",
    "print(X_raw_train.index.tolist() == y_train.index.tolist())\n",
    "print(X_raw_test.index.tolist() == y_test.index.tolist())"
   ]
  },
  {
   "cell_type": "markdown",
   "id": "bb3b1870-7e71-4c44-805c-14556132dc54",
   "metadata": {},
   "source": [
    "We verified that the sample indices match between the x (raw counts) and y (subtype label) datasets for both training and test sets.  \n",
    "Both checks returned `True`, confirming that the datasets are properly aligned."
   ]
  },
  {
   "cell_type": "code",
   "execution_count": 25,
   "id": "de2761c1-6221-4498-a40f-d3cc04bf8600",
   "metadata": {},
   "outputs": [],
   "source": [
    "# # save training and test files\n",
    "# X_raw_train.to_csv('X_raw_counts_train.csv')\n",
    "# X_raw_test.to_csv('X_raw_counts_test.csv')\n",
    "# y_train.to_csv('y_subtype_train.csv')\n",
    "# y_test.to_csv('y_subtype_test.csv')"
   ]
  }
 ],
 "metadata": {
  "kernelspec": {
   "display_name": "Breast Subtype AE Project Env",
   "language": "python",
   "name": "brca_subtype_ae_proj_env"
  },
  "language_info": {
   "codemirror_mode": {
    "name": "ipython",
    "version": 3
   },
   "file_extension": ".py",
   "mimetype": "text/x-python",
   "name": "python",
   "nbconvert_exporter": "python",
   "pygments_lexer": "ipython3",
   "version": "3.11.13"
  }
 },
 "nbformat": 4,
 "nbformat_minor": 5
}
